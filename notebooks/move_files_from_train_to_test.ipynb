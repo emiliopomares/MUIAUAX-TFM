{
 "cells": [
  {
   "cell_type": "markdown",
   "metadata": {},
   "source": [
    "## CNN VoxelNet - TFM Emilio Pomares Porras MUIA Alfonso X el Sabio, 2023-2024\n",
    "\n",
    "### Sistema de visión artificial para manipulación robótica a tasas interactivas con arquitecturas basadas en UNet: VoxelNet\n",
    "\n",
    "#### Artificial vision system for robotic manipulation at interactive framerates with UNet based architectures: VoxelNet\n",
    "\n",
    "# ETAPA DE PREPARACIÓN DE DATOS - DATA PREPARATION STAGE"
   ]
  },
  {
   "cell_type": "markdown",
   "metadata": {},
   "source": [
    "The mission of the following code is to create a train/test split of the data: starting with all of the generated dataset at DATASET_PATH + \"/train\", the directory DATASET_PATH + \"/test\" will be created and a fraction of the files will be moved to this test folder, effectively creating a train/test split"
   ]
  },
  {
   "cell_type": "code",
   "execution_count": 3,
   "metadata": {},
   "outputs": [
    {
     "name": "stdout",
     "output_type": "stream",
     "text": [
      "Moved 6296 IDs from /media/emilio/2TBDrive/robovision_train to /media/emilio/2TBDrive/robovision_test\n"
     ]
    }
   ],
   "source": [
    "import os\n",
    "import random\n",
    "import shutil\n",
    "\n",
    "DATASET_PATH = \"...\" # set to your dataset path\n",
    "\n",
    "\n",
    "# Define the paths for the two folders\n",
    "folder_a = os.path.join(DATASET_PATH, \"/train\")\n",
    "folder_b = os.path.join(DATASET_PATH, \"/test\")\n",
    "\n",
    "# Ensure folder B exists\n",
    "os.makedirs(folder_b, exist_ok=True)\n",
    "\n",
    "# Get a list of all files in folder A\n",
    "files = [f for f in os.listdir(folder_a) if os.path.isfile(os.path.join(folder_a, f))]\n",
    "\n",
    "# Extract IDs from filenames ending with 'L.png'\n",
    "ids = {f[:-5] for f in files if f.endswith('L.png')}\n",
    "\n",
    "# Determine the number of IDs to move (20%)\n",
    "num_ids_to_move = int(len(ids) * 0.2)\n",
    "\n",
    "# Randomly select IDs to move\n",
    "ids_to_move = random.sample(ids, num_ids_to_move)\n",
    "\n",
    "# Move the selected IDs' files to folder B\n",
    "for id in ids_to_move:\n",
    "    for suffix in ['L.png', 'R.png', 'T.bin']:\n",
    "        file_name = f\"{id}{suffix}\"\n",
    "        src_path = os.path.join(folder_a, file_name)\n",
    "        dst_path = os.path.join(folder_b, file_name)\n",
    "        if os.path.exists(src_path):  # Check if file exists before moving\n",
    "            shutil.move(src_path, dst_path)\n",
    "\n",
    "print(f'Moved {num_ids_to_move} IDs from {folder_a} to {folder_b}')\n"
   ]
  },
  {
   "cell_type": "code",
   "execution_count": null,
   "metadata": {},
   "outputs": [],
   "source": []
  }
 ],
 "metadata": {
  "kernelspec": {
   "display_name": "Python 3 (ipykernel)",
   "language": "python",
   "name": "python3"
  },
  "language_info": {
   "codemirror_mode": {
    "name": "ipython",
    "version": 3
   },
   "file_extension": ".py",
   "mimetype": "text/x-python",
   "name": "python",
   "nbconvert_exporter": "python",
   "pygments_lexer": "ipython3",
   "version": "3.10.14"
  }
 },
 "nbformat": 4,
 "nbformat_minor": 4
}
