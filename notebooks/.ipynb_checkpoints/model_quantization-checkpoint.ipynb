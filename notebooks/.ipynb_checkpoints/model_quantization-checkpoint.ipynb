{
 "cells": [
  {
   "cell_type": "markdown",
   "id": "c21a0af0-302d-42ea-aad6-d654680f08ba",
   "metadata": {},
   "source": [
    "## CNN VoxelNet - TFM Emilio Pomares Porras MUIA Alfonso X el Sabio, 2023-2024\n",
    "\n",
    "### Sistema de visión artificial para manipulación robótica a tasas interactivas con arquitecturas basadas en UNet: VoxelNet\n",
    "\n",
    "#### Artificial vision system for robotic manipulation at interactive framerates with UNet based architectures: VoxelNet\n",
    "\n",
    "# ETAPA DE CUANTIZACIÓN - QUANTIZATION STAGE"
   ]
  },
  {
   "cell_type": "code",
   "execution_count": 13,
   "id": "6ce7a453-97b3-4609-8034-005762411fb9",
   "metadata": {},
   "outputs": [],
   "source": [
    "import torch\n",
    "import torchvision.models as models\n",
    "from torch.quantization import fuse_modules\n",
    "import torch.quantization\n",
    "\n",
    "import os\n",
    "\n",
    "checkpoint_dir = \"../checkpoints\"\n",
    "checkpoint_fn = \"...\"\n",
    "\n",
    "# Load or define your model\n",
    "#model = models.resnet18(pretrained=True)"
   ]
  },
  {
   "cell_type": "markdown",
   "id": "c4cceec5-5c22-445a-9208-aef80ed1173d",
   "metadata": {},
   "source": [
    "We need at least pytorch 1.3"
   ]
  },
  {
   "cell_type": "code",
   "execution_count": 14,
   "id": "dc336253-8b85-4066-a7b2-c849c871bee9",
   "metadata": {},
   "outputs": [
    {
     "name": "stdout",
     "output_type": "stream",
     "text": [
      "torch version: 2.0.0+cu117\n"
     ]
    }
   ],
   "source": [
    "print(f\"torch version: {torch.__version__}\")\n",
    "assert (int(str(torch.__version__).split(\".\")[0])*100 + int(str(torch.__version__).split(\".\")[1]))>=103, \"Please upgrade to pytorch ^1.3\""
   ]
  },
  {
   "cell_type": "markdown",
   "id": "7988d29b-592d-4496-a367-f420e5f85bd1",
   "metadata": {},
   "source": [
    "We set the model into evaluation mode:"
   ]
  },
  {
   "cell_type": "code",
   "execution_count": 1,
   "id": "f4ec814d-8af5-45ac-90db-0e4a211f5224",
   "metadata": {},
   "outputs": [
    {
     "ename": "NameError",
     "evalue": "name 'model' is not defined",
     "output_type": "error",
     "traceback": [
      "\u001b[0;31m---------------------------------------------------------------------------\u001b[0m",
      "\u001b[0;31mNameError\u001b[0m                                 Traceback (most recent call last)",
      "Cell \u001b[0;32mIn[1], line 1\u001b[0m\n\u001b[0;32m----> 1\u001b[0m \u001b[43mmodel\u001b[49m\u001b[38;5;241m.\u001b[39meval()\n",
      "\u001b[0;31mNameError\u001b[0m: name 'model' is not defined"
     ]
    }
   ],
   "source": [
    "model.eval()"
   ]
  },
  {
   "cell_type": "markdown",
   "id": "d053e92d-a6dd-46d1-9201-897b7816bd2a",
   "metadata": {},
   "source": [
    "We then apply dynamic quantization. We could resort to static quantization if the model was not performant enough in our target platform"
   ]
  },
  {
   "cell_type": "code",
   "execution_count": 15,
   "id": "399def2f-8508-4f07-b846-1d1bcfdd59e1",
   "metadata": {},
   "outputs": [
    {
     "ename": "NameError",
     "evalue": "name 'model' is not defined",
     "output_type": "error",
     "traceback": [
      "\u001b[0;31m---------------------------------------------------------------------------\u001b[0m",
      "\u001b[0;31mNameError\u001b[0m                                 Traceback (most recent call last)",
      "Cell \u001b[0;32mIn[15], line 1\u001b[0m\n\u001b[0;32m----> 1\u001b[0m model_int8 \u001b[38;5;241m=\u001b[39m torch\u001b[38;5;241m.\u001b[39mquantization\u001b[38;5;241m.\u001b[39mquantize_dynamic(\u001b[43mmodel\u001b[49m, {torch\u001b[38;5;241m.\u001b[39mnn\u001b[38;5;241m.\u001b[39mLinear}, dtype\u001b[38;5;241m=\u001b[39mtorch\u001b[38;5;241m.\u001b[39mqint8)\n",
      "\u001b[0;31mNameError\u001b[0m: name 'model' is not defined"
     ]
    }
   ],
   "source": [
    "model_int8 = torch.quantization.quantize_dynamic(model, {torch.nn.Linear}, dtype=torch.qint8)"
   ]
  },
  {
   "cell_type": "markdown",
   "id": "9eb9294b-09b5-4c50-9471-3dc4937729d4",
   "metadata": {},
   "source": [
    "Save the quantized model to disk"
   ]
  },
  {
   "cell_type": "code",
   "execution_count": null,
   "id": "36b43a49-637b-4aee-9bd6-d039c6213dff",
   "metadata": {},
   "outputs": [],
   "source": [
    "model_int8.save(\"...\")"
   ]
  }
 ],
 "metadata": {
  "kernelspec": {
   "display_name": "Python 3 (ipykernel)",
   "language": "python",
   "name": "python3"
  },
  "language_info": {
   "codemirror_mode": {
    "name": "ipython",
    "version": 3
   },
   "file_extension": ".py",
   "mimetype": "text/x-python",
   "name": "python",
   "nbconvert_exporter": "python",
   "pygments_lexer": "ipython3",
   "version": "3.10.14"
  }
 },
 "nbformat": 4,
 "nbformat_minor": 5
}
